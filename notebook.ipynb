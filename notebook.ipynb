{
 "cells": [
  {
   "cell_type": "code",
   "execution_count": 5,
   "metadata": {
    "execution": {
     "iopub.execute_input": "2025-01-29T21:10:13.147360Z",
     "iopub.status.busy": "2025-01-29T21:10:13.147109Z",
     "iopub.status.idle": "2025-01-29T21:10:45.452466Z",
     "shell.execute_reply": "2025-01-29T21:10:45.451634Z",
     "shell.execute_reply.started": "2025-01-29T21:10:13.147332Z"
    },
    "trusted": true
   },
   "outputs": [
    {
     "name": "stderr",
     "output_type": "stream",
     "text": [
      "This function will be removed in tqdm==5.0.0\n",
      "Please use `tqdm.notebook.tqdm` instead of `tqdm.tqdm_notebook`\n"
     ]
    },
    {
     "data": {
      "application/vnd.jupyter.widget-view+json": {
       "model_id": "e63afd91ded64896a8ef132bc2acb4dd",
       "version_major": 2,
       "version_minor": 0
      },
      "text/plain": [
       "0it [00:00, ?it/s]"
      ]
     },
     "metadata": {},
     "output_type": "display_data"
    }
   ],
   "source": [
    "import os\n",
    "import numpy as np\n",
    "import pandas as pd\n",
    "import seaborn as sns\n",
    "import matplotlib.pyplot as plt\n",
    "import kagglehub\n",
    "from keras.models import Sequential\n",
    "from tensorflow.keras.models import Model\n",
    "from tensorflow.keras.optimizers import Adam\n",
    "from tensorflow.keras.regularizers import l2\n",
    "from tensorflow.keras.callbacks import EarlyStopping\n",
    "from sklearn.model_selection import train_test_split\n",
    "from sklearn.preprocessing import StandardScaler, LabelEncoder\n",
    "from tqdm import tqdm_notebook as tqdm\n",
    "tqdm().pandas()\n",
    "from sklearn.metrics import mean_squared_error, r2_score\n",
    "from tensorflow.keras.models import Sequential\n",
    "from tensorflow.keras.layers import GRU, LSTM, Conv1D, MaxPooling1D, Flatten, Dense, Dropout\n",
    "from tensorflow.keras.optimizers import Adam\n",
    "from tensorflow.keras.callbacks import EarlyStopping\n",
    "from keras.layers import Input, BatchNormalization\n",
    "from keras.models import Model\n",
    "import joblib\n",
    "from sklearn.preprocessing import StandardScaler, LabelEncoder\n",
    "from tensorflow.keras.callbacks import EarlyStopping\n",
    "from tensorflow.keras.layers import Input, Flatten, Dense, Dropout, BatchNormalization\n",
    "%matplotlib inline"
   ]
  },
  {
   "cell_type": "code",
   "execution_count": 6,
   "metadata": {
    "_cell_guid": "b1076dfc-b9ad-4769-8c92-a6c4dae69d19",
    "_uuid": "8f2839f25d086af736a60e9eeb907d3b93b6e0e5",
    "execution": {
     "iopub.execute_input": "2025-01-29T21:10:45.454325Z",
     "iopub.status.busy": "2025-01-29T21:10:45.453796Z",
     "iopub.status.idle": "2025-01-29T21:10:45.575270Z",
     "shell.execute_reply": "2025-01-29T21:10:45.574643Z",
     "shell.execute_reply.started": "2025-01-29T21:10:45.454300Z"
    },
    "trusted": true
   },
   "outputs": [
    {
     "name": "stdout",
     "output_type": "stream",
     "text": [
      "Path to dataset files: /kaggle/input/daily-temperature-of-major-cities\n"
     ]
    }
   ],
   "source": [
    "path = kagglehub.dataset_download(\"sudalairajkumar/daily-temperature-of-major-cities\")\n",
    "\n",
    "print(\"Path to dataset files:\", path)"
   ]
  },
  {
   "cell_type": "markdown",
   "metadata": {},
   "source": [
    "# **1. Data Preprocessing**"
   ]
  },
  {
   "cell_type": "code",
   "execution_count": 7,
   "metadata": {
    "execution": {
     "iopub.execute_input": "2025-01-29T21:10:45.576180Z",
     "iopub.status.busy": "2025-01-29T21:10:45.575980Z",
     "iopub.status.idle": "2025-01-29T21:10:49.008721Z",
     "shell.execute_reply": "2025-01-29T21:10:49.007789Z",
     "shell.execute_reply.started": "2025-01-29T21:10:45.576162Z"
    },
    "trusted": true
   },
   "outputs": [
    {
     "name": "stderr",
     "output_type": "stream",
     "text": [
      "Columns (2) have mixed types. Specify dtype option on import or set low_memory=False.\n"
     ]
    },
    {
     "data": {
      "text/html": [
       "<div>\n",
       "<style scoped>\n",
       "    .dataframe tbody tr th:only-of-type {\n",
       "        vertical-align: middle;\n",
       "    }\n",
       "\n",
       "    .dataframe tbody tr th {\n",
       "        vertical-align: top;\n",
       "    }\n",
       "\n",
       "    .dataframe thead th {\n",
       "        text-align: right;\n",
       "    }\n",
       "</style>\n",
       "<table border=\"1\" class=\"dataframe\">\n",
       "  <thead>\n",
       "    <tr style=\"text-align: right;\">\n",
       "      <th></th>\n",
       "      <th>Region</th>\n",
       "      <th>Country</th>\n",
       "      <th>State</th>\n",
       "      <th>City</th>\n",
       "      <th>Month</th>\n",
       "      <th>Day</th>\n",
       "      <th>Year</th>\n",
       "      <th>AvgTemperature</th>\n",
       "    </tr>\n",
       "  </thead>\n",
       "  <tbody>\n",
       "    <tr>\n",
       "      <th>0</th>\n",
       "      <td>Africa</td>\n",
       "      <td>Algeria</td>\n",
       "      <td>NaN</td>\n",
       "      <td>Algiers</td>\n",
       "      <td>1</td>\n",
       "      <td>1</td>\n",
       "      <td>1995</td>\n",
       "      <td>64.2</td>\n",
       "    </tr>\n",
       "    <tr>\n",
       "      <th>1</th>\n",
       "      <td>Africa</td>\n",
       "      <td>Algeria</td>\n",
       "      <td>NaN</td>\n",
       "      <td>Algiers</td>\n",
       "      <td>1</td>\n",
       "      <td>2</td>\n",
       "      <td>1995</td>\n",
       "      <td>49.4</td>\n",
       "    </tr>\n",
       "    <tr>\n",
       "      <th>2</th>\n",
       "      <td>Africa</td>\n",
       "      <td>Algeria</td>\n",
       "      <td>NaN</td>\n",
       "      <td>Algiers</td>\n",
       "      <td>1</td>\n",
       "      <td>3</td>\n",
       "      <td>1995</td>\n",
       "      <td>48.8</td>\n",
       "    </tr>\n",
       "    <tr>\n",
       "      <th>3</th>\n",
       "      <td>Africa</td>\n",
       "      <td>Algeria</td>\n",
       "      <td>NaN</td>\n",
       "      <td>Algiers</td>\n",
       "      <td>1</td>\n",
       "      <td>4</td>\n",
       "      <td>1995</td>\n",
       "      <td>46.4</td>\n",
       "    </tr>\n",
       "    <tr>\n",
       "      <th>4</th>\n",
       "      <td>Africa</td>\n",
       "      <td>Algeria</td>\n",
       "      <td>NaN</td>\n",
       "      <td>Algiers</td>\n",
       "      <td>1</td>\n",
       "      <td>5</td>\n",
       "      <td>1995</td>\n",
       "      <td>47.9</td>\n",
       "    </tr>\n",
       "    <tr>\n",
       "      <th>...</th>\n",
       "      <td>...</td>\n",
       "      <td>...</td>\n",
       "      <td>...</td>\n",
       "      <td>...</td>\n",
       "      <td>...</td>\n",
       "      <td>...</td>\n",
       "      <td>...</td>\n",
       "      <td>...</td>\n",
       "    </tr>\n",
       "    <tr>\n",
       "      <th>2906322</th>\n",
       "      <td>North America</td>\n",
       "      <td>US</td>\n",
       "      <td>Additional Territories</td>\n",
       "      <td>San Juan Puerto Rico</td>\n",
       "      <td>7</td>\n",
       "      <td>27</td>\n",
       "      <td>2013</td>\n",
       "      <td>82.4</td>\n",
       "    </tr>\n",
       "    <tr>\n",
       "      <th>2906323</th>\n",
       "      <td>North America</td>\n",
       "      <td>US</td>\n",
       "      <td>Additional Territories</td>\n",
       "      <td>San Juan Puerto Rico</td>\n",
       "      <td>7</td>\n",
       "      <td>28</td>\n",
       "      <td>2013</td>\n",
       "      <td>81.6</td>\n",
       "    </tr>\n",
       "    <tr>\n",
       "      <th>2906324</th>\n",
       "      <td>North America</td>\n",
       "      <td>US</td>\n",
       "      <td>Additional Territories</td>\n",
       "      <td>San Juan Puerto Rico</td>\n",
       "      <td>7</td>\n",
       "      <td>29</td>\n",
       "      <td>2013</td>\n",
       "      <td>84.2</td>\n",
       "    </tr>\n",
       "    <tr>\n",
       "      <th>2906325</th>\n",
       "      <td>North America</td>\n",
       "      <td>US</td>\n",
       "      <td>Additional Territories</td>\n",
       "      <td>San Juan Puerto Rico</td>\n",
       "      <td>7</td>\n",
       "      <td>30</td>\n",
       "      <td>2013</td>\n",
       "      <td>83.8</td>\n",
       "    </tr>\n",
       "    <tr>\n",
       "      <th>2906326</th>\n",
       "      <td>North America</td>\n",
       "      <td>US</td>\n",
       "      <td>Additional Territories</td>\n",
       "      <td>San Juan Puerto Rico</td>\n",
       "      <td>7</td>\n",
       "      <td>31</td>\n",
       "      <td>2013</td>\n",
       "      <td>83.6</td>\n",
       "    </tr>\n",
       "  </tbody>\n",
       "</table>\n",
       "<p>2906327 rows × 8 columns</p>\n",
       "</div>"
      ],
      "text/plain": [
       "                Region  Country                   State                  City  \\\n",
       "0               Africa  Algeria                     NaN               Algiers   \n",
       "1               Africa  Algeria                     NaN               Algiers   \n",
       "2               Africa  Algeria                     NaN               Algiers   \n",
       "3               Africa  Algeria                     NaN               Algiers   \n",
       "4               Africa  Algeria                     NaN               Algiers   \n",
       "...                ...      ...                     ...                   ...   \n",
       "2906322  North America       US  Additional Territories  San Juan Puerto Rico   \n",
       "2906323  North America       US  Additional Territories  San Juan Puerto Rico   \n",
       "2906324  North America       US  Additional Territories  San Juan Puerto Rico   \n",
       "2906325  North America       US  Additional Territories  San Juan Puerto Rico   \n",
       "2906326  North America       US  Additional Territories  San Juan Puerto Rico   \n",
       "\n",
       "         Month  Day  Year  AvgTemperature  \n",
       "0            1    1  1995            64.2  \n",
       "1            1    2  1995            49.4  \n",
       "2            1    3  1995            48.8  \n",
       "3            1    4  1995            46.4  \n",
       "4            1    5  1995            47.9  \n",
       "...        ...  ...   ...             ...  \n",
       "2906322      7   27  2013            82.4  \n",
       "2906323      7   28  2013            81.6  \n",
       "2906324      7   29  2013            84.2  \n",
       "2906325      7   30  2013            83.8  \n",
       "2906326      7   31  2013            83.6  \n",
       "\n",
       "[2906327 rows x 8 columns]"
      ]
     },
     "execution_count": 7,
     "metadata": {},
     "output_type": "execute_result"
    }
   ],
   "source": [
    "data = pd.read_csv(os.path.join(path, 'city_temperature.csv'))\n",
    "data"
   ]
  },
  {
   "cell_type": "code",
   "execution_count": 8,
   "metadata": {
    "execution": {
     "iopub.execute_input": "2025-01-29T21:10:49.009872Z",
     "iopub.status.busy": "2025-01-29T21:10:49.009622Z",
     "iopub.status.idle": "2025-01-29T21:10:49.508143Z",
     "shell.execute_reply": "2025-01-29T21:10:49.507246Z",
     "shell.execute_reply.started": "2025-01-29T21:10:49.009849Z"
    },
    "trusted": true
   },
   "outputs": [
    {
     "data": {
      "text/plain": [
       "Region                  0\n",
       "Country                 0\n",
       "State             1450990\n",
       "City                    0\n",
       "Month                   0\n",
       "Day                     0\n",
       "Year                    0\n",
       "AvgTemperature          0\n",
       "dtype: int64"
      ]
     },
     "execution_count": 8,
     "metadata": {},
     "output_type": "execute_result"
    }
   ],
   "source": [
    "data.isnull().sum()"
   ]
  },
  {
   "cell_type": "code",
   "execution_count": 9,
   "metadata": {
    "execution": {
     "iopub.execute_input": "2025-01-29T21:10:49.509486Z",
     "iopub.status.busy": "2025-01-29T21:10:49.509143Z",
     "iopub.status.idle": "2025-01-29T21:10:49.645164Z",
     "shell.execute_reply": "2025-01-29T21:10:49.644455Z",
     "shell.execute_reply.started": "2025-01-29T21:10:49.509451Z"
    },
    "trusted": true
   },
   "outputs": [],
   "source": [
    "data.drop(columns=['State', 'AvgTemperature', 'Region'], inplace = True)"
   ]
  },
  {
   "cell_type": "code",
   "execution_count": 10,
   "metadata": {
    "execution": {
     "iopub.execute_input": "2025-01-29T21:10:49.647477Z",
     "iopub.status.busy": "2025-01-29T21:10:49.647239Z",
     "iopub.status.idle": "2025-01-29T21:10:49.656975Z",
     "shell.execute_reply": "2025-01-29T21:10:49.656179Z",
     "shell.execute_reply.started": "2025-01-29T21:10:49.647458Z"
    },
    "trusted": true
   },
   "outputs": [
    {
     "data": {
      "text/html": [
       "<div>\n",
       "<style scoped>\n",
       "    .dataframe tbody tr th:only-of-type {\n",
       "        vertical-align: middle;\n",
       "    }\n",
       "\n",
       "    .dataframe tbody tr th {\n",
       "        vertical-align: top;\n",
       "    }\n",
       "\n",
       "    .dataframe thead th {\n",
       "        text-align: right;\n",
       "    }\n",
       "</style>\n",
       "<table border=\"1\" class=\"dataframe\">\n",
       "  <thead>\n",
       "    <tr style=\"text-align: right;\">\n",
       "      <th></th>\n",
       "      <th>Country</th>\n",
       "      <th>City</th>\n",
       "      <th>Month</th>\n",
       "      <th>Day</th>\n",
       "      <th>Year</th>\n",
       "    </tr>\n",
       "  </thead>\n",
       "  <tbody>\n",
       "    <tr>\n",
       "      <th>0</th>\n",
       "      <td>Algeria</td>\n",
       "      <td>Algiers</td>\n",
       "      <td>1</td>\n",
       "      <td>1</td>\n",
       "      <td>1995</td>\n",
       "    </tr>\n",
       "    <tr>\n",
       "      <th>1</th>\n",
       "      <td>Algeria</td>\n",
       "      <td>Algiers</td>\n",
       "      <td>1</td>\n",
       "      <td>2</td>\n",
       "      <td>1995</td>\n",
       "    </tr>\n",
       "    <tr>\n",
       "      <th>2</th>\n",
       "      <td>Algeria</td>\n",
       "      <td>Algiers</td>\n",
       "      <td>1</td>\n",
       "      <td>3</td>\n",
       "      <td>1995</td>\n",
       "    </tr>\n",
       "    <tr>\n",
       "      <th>3</th>\n",
       "      <td>Algeria</td>\n",
       "      <td>Algiers</td>\n",
       "      <td>1</td>\n",
       "      <td>4</td>\n",
       "      <td>1995</td>\n",
       "    </tr>\n",
       "    <tr>\n",
       "      <th>4</th>\n",
       "      <td>Algeria</td>\n",
       "      <td>Algiers</td>\n",
       "      <td>1</td>\n",
       "      <td>5</td>\n",
       "      <td>1995</td>\n",
       "    </tr>\n",
       "    <tr>\n",
       "      <th>...</th>\n",
       "      <td>...</td>\n",
       "      <td>...</td>\n",
       "      <td>...</td>\n",
       "      <td>...</td>\n",
       "      <td>...</td>\n",
       "    </tr>\n",
       "    <tr>\n",
       "      <th>2906322</th>\n",
       "      <td>US</td>\n",
       "      <td>San Juan Puerto Rico</td>\n",
       "      <td>7</td>\n",
       "      <td>27</td>\n",
       "      <td>2013</td>\n",
       "    </tr>\n",
       "    <tr>\n",
       "      <th>2906323</th>\n",
       "      <td>US</td>\n",
       "      <td>San Juan Puerto Rico</td>\n",
       "      <td>7</td>\n",
       "      <td>28</td>\n",
       "      <td>2013</td>\n",
       "    </tr>\n",
       "    <tr>\n",
       "      <th>2906324</th>\n",
       "      <td>US</td>\n",
       "      <td>San Juan Puerto Rico</td>\n",
       "      <td>7</td>\n",
       "      <td>29</td>\n",
       "      <td>2013</td>\n",
       "    </tr>\n",
       "    <tr>\n",
       "      <th>2906325</th>\n",
       "      <td>US</td>\n",
       "      <td>San Juan Puerto Rico</td>\n",
       "      <td>7</td>\n",
       "      <td>30</td>\n",
       "      <td>2013</td>\n",
       "    </tr>\n",
       "    <tr>\n",
       "      <th>2906326</th>\n",
       "      <td>US</td>\n",
       "      <td>San Juan Puerto Rico</td>\n",
       "      <td>7</td>\n",
       "      <td>31</td>\n",
       "      <td>2013</td>\n",
       "    </tr>\n",
       "  </tbody>\n",
       "</table>\n",
       "<p>2906327 rows × 5 columns</p>\n",
       "</div>"
      ],
      "text/plain": [
       "         Country                  City  Month  Day  Year\n",
       "0        Algeria               Algiers      1    1  1995\n",
       "1        Algeria               Algiers      1    2  1995\n",
       "2        Algeria               Algiers      1    3  1995\n",
       "3        Algeria               Algiers      1    4  1995\n",
       "4        Algeria               Algiers      1    5  1995\n",
       "...          ...                   ...    ...  ...   ...\n",
       "2906322       US  San Juan Puerto Rico      7   27  2013\n",
       "2906323       US  San Juan Puerto Rico      7   28  2013\n",
       "2906324       US  San Juan Puerto Rico      7   29  2013\n",
       "2906325       US  San Juan Puerto Rico      7   30  2013\n",
       "2906326       US  San Juan Puerto Rico      7   31  2013\n",
       "\n",
       "[2906327 rows x 5 columns]"
      ]
     },
     "execution_count": 10,
     "metadata": {},
     "output_type": "execute_result"
    }
   ],
   "source": [
    "data"
   ]
  },
  {
   "cell_type": "code",
   "execution_count": 11,
   "metadata": {
    "execution": {
     "iopub.execute_input": "2025-01-29T21:10:49.658324Z",
     "iopub.status.busy": "2025-01-29T21:10:49.658091Z",
     "iopub.status.idle": "2025-01-29T21:10:49.775141Z",
     "shell.execute_reply": "2025-01-29T21:10:49.774415Z",
     "shell.execute_reply.started": "2025-01-29T21:10:49.658301Z"
    },
    "trusted": true
   },
   "outputs": [
    {
     "data": {
      "text/html": [
       "<div>\n",
       "<style scoped>\n",
       "    .dataframe tbody tr th:only-of-type {\n",
       "        vertical-align: middle;\n",
       "    }\n",
       "\n",
       "    .dataframe tbody tr th {\n",
       "        vertical-align: top;\n",
       "    }\n",
       "\n",
       "    .dataframe thead th {\n",
       "        text-align: right;\n",
       "    }\n",
       "</style>\n",
       "<table border=\"1\" class=\"dataframe\">\n",
       "  <thead>\n",
       "    <tr style=\"text-align: right;\">\n",
       "      <th></th>\n",
       "      <th>Country</th>\n",
       "      <th>City</th>\n",
       "      <th>Month</th>\n",
       "      <th>Day</th>\n",
       "      <th>Year</th>\n",
       "    </tr>\n",
       "  </thead>\n",
       "  <tbody>\n",
       "    <tr>\n",
       "      <th>358851</th>\n",
       "      <td>Japan</td>\n",
       "      <td>Osaka</td>\n",
       "      <td>1</td>\n",
       "      <td>1</td>\n",
       "      <td>1995</td>\n",
       "    </tr>\n",
       "    <tr>\n",
       "      <th>358852</th>\n",
       "      <td>Japan</td>\n",
       "      <td>Osaka</td>\n",
       "      <td>1</td>\n",
       "      <td>2</td>\n",
       "      <td>1995</td>\n",
       "    </tr>\n",
       "    <tr>\n",
       "      <th>358853</th>\n",
       "      <td>Japan</td>\n",
       "      <td>Osaka</td>\n",
       "      <td>1</td>\n",
       "      <td>3</td>\n",
       "      <td>1995</td>\n",
       "    </tr>\n",
       "    <tr>\n",
       "      <th>358854</th>\n",
       "      <td>Japan</td>\n",
       "      <td>Osaka</td>\n",
       "      <td>1</td>\n",
       "      <td>4</td>\n",
       "      <td>1995</td>\n",
       "    </tr>\n",
       "    <tr>\n",
       "      <th>358855</th>\n",
       "      <td>Japan</td>\n",
       "      <td>Osaka</td>\n",
       "      <td>1</td>\n",
       "      <td>5</td>\n",
       "      <td>1995</td>\n",
       "    </tr>\n",
       "    <tr>\n",
       "      <th>...</th>\n",
       "      <td>...</td>\n",
       "      <td>...</td>\n",
       "      <td>...</td>\n",
       "      <td>...</td>\n",
       "      <td>...</td>\n",
       "    </tr>\n",
       "    <tr>\n",
       "      <th>1204356</th>\n",
       "      <td>Canada</td>\n",
       "      <td>Winnipeg</td>\n",
       "      <td>6</td>\n",
       "      <td>6</td>\n",
       "      <td>2014</td>\n",
       "    </tr>\n",
       "    <tr>\n",
       "      <th>1204357</th>\n",
       "      <td>Canada</td>\n",
       "      <td>Winnipeg</td>\n",
       "      <td>6</td>\n",
       "      <td>7</td>\n",
       "      <td>2014</td>\n",
       "    </tr>\n",
       "    <tr>\n",
       "      <th>1204358</th>\n",
       "      <td>Canada</td>\n",
       "      <td>Winnipeg</td>\n",
       "      <td>6</td>\n",
       "      <td>8</td>\n",
       "      <td>2014</td>\n",
       "    </tr>\n",
       "    <tr>\n",
       "      <th>1204359</th>\n",
       "      <td>Canada</td>\n",
       "      <td>Winnipeg</td>\n",
       "      <td>6</td>\n",
       "      <td>9</td>\n",
       "      <td>2014</td>\n",
       "    </tr>\n",
       "    <tr>\n",
       "      <th>1204360</th>\n",
       "      <td>Canada</td>\n",
       "      <td>Winnipeg</td>\n",
       "      <td>6</td>\n",
       "      <td>10</td>\n",
       "      <td>2014</td>\n",
       "    </tr>\n",
       "  </tbody>\n",
       "</table>\n",
       "<p>145357 rows × 5 columns</p>\n",
       "</div>"
      ],
      "text/plain": [
       "        Country      City  Month  Day  Year\n",
       "358851    Japan     Osaka      1    1  1995\n",
       "358852    Japan     Osaka      1    2  1995\n",
       "358853    Japan     Osaka      1    3  1995\n",
       "358854    Japan     Osaka      1    4  1995\n",
       "358855    Japan     Osaka      1    5  1995\n",
       "...         ...       ...    ...  ...   ...\n",
       "1204356  Canada  Winnipeg      6    6  2014\n",
       "1204357  Canada  Winnipeg      6    7  2014\n",
       "1204358  Canada  Winnipeg      6    8  2014\n",
       "1204359  Canada  Winnipeg      6    9  2014\n",
       "1204360  Canada  Winnipeg      6   10  2014\n",
       "\n",
       "[145357 rows x 5 columns]"
      ]
     },
     "execution_count": 11,
     "metadata": {},
     "output_type": "execute_result"
    }
   ],
   "source": [
    "df = data[data['Country'].isin(['Canada', 'Japan', 'Germany', 'France'])]\n",
    "df"
   ]
  },
  {
   "cell_type": "code",
   "execution_count": 13,
   "metadata": {
    "execution": {
     "iopub.execute_input": "2025-01-29T21:11:01.349194Z",
     "iopub.status.busy": "2025-01-29T21:11:01.348910Z",
     "iopub.status.idle": "2025-01-29T21:11:01.374271Z",
     "shell.execute_reply": "2025-01-29T21:11:01.373412Z",
     "shell.execute_reply.started": "2025-01-29T21:11:01.349172Z"
    },
    "trusted": true
   },
   "outputs": [
    {
     "data": {
      "text/plain": [
       "array(['Osaka', 'Sapporo', 'Tokyo', 'Paris', 'Bordeaux', 'Bonn',\n",
       "       'Frankfurt', 'Hamburg', 'Munich', 'Calgary', 'Edmonton', 'Halifax',\n",
       "       'Montreal', 'Ottawa', 'Quebec', 'Regina', 'Toronto', 'Vancouver',\n",
       "       'Winnipeg'], dtype=object)"
      ]
     },
     "execution_count": 13,
     "metadata": {},
     "output_type": "execute_result"
    }
   ],
   "source": [
    "df[df['Country'].isin(['Canada', 'Japan', 'Germany', 'France'])]['City'].unique()"
   ]
  },
  {
   "cell_type": "code",
   "execution_count": null,
   "metadata": {
    "trusted": true
   },
   "outputs": [],
   "source": [
    "def assign_latitude(country):\n",
    "    if country == 'Canada':\n",
    "        return 56.130366\n",
    "    elif country == 'Japan':\n",
    "        return 36.2048\n",
    "    elif country == 'Germany':\n",
    "        return 51.165691\n",
    "    elif country == 'France':\n",
    "        return 46.227638\n",
    "\n",
    "\n",
    "def get_season(month):\n",
    "    if month in [12, 1, 2]:\n",
    "        return 'Winter'\n",
    "    elif month in [3, 4, 5]:\n",
    "        return 'Spring'\n",
    "    elif month in [6, 7, 8]:\n",
    "        return 'Summer'\n",
    "    elif month in [9, 10, 11]:\n",
    "        return 'Autumn'\n",
    "\n",
    "\n",
    "def random_temp(season, latitude):\n",
    "    if latitude > 53:  # High latitude (close to North Pole)\n",
    "        if season == 'Winter':\n",
    "            return np.random.randint(-20, 5)  # Very cold\n",
    "        elif season == 'Spring':\n",
    "            return np.random.randint(-15, 10)  # Cold\n",
    "        elif season == 'Summer':\n",
    "            return np.random.randint(5, 15)  # Cool\n",
    "        elif season == 'Autumn':\n",
    "            return np.random.randint(-5, 10)  # Cold to cool\n",
    "            \n",
    "    elif 47 <= latitude < 53:  # Mid latitude\n",
    "        if season == 'Winter':\n",
    "            return np.random.randint(-6, 10)  # Cold\n",
    "        elif season == 'Spring':\n",
    "            return np.random.randint(5, 15)  # Mild\n",
    "        elif season == 'Summer':\n",
    "            return np.random.randint(15, 25)  # Warm\n",
    "        elif season == 'Autumn':\n",
    "            return np.random.randint(7, 18)  # Mild to cool\n",
    "            \n",
    "    elif 43 <= latitude < 47:\n",
    "        if season == 'Winter':\n",
    "            return np.random.randint(-5, 13)  # Warm\n",
    "        elif season == 'Spring':\n",
    "            return np.random.randint(5, 20)  # Warm to hot\n",
    "        elif season == 'Summer':\n",
    "            return np.random.randint(10, 25)  # Hot\n",
    "        elif season == 'Autumn':\n",
    "            return np.random.randint(5, 20)  # Warm to hot\n",
    "\n",
    "    else:  # Low latitude (close to Equator)\n",
    "        if season == 'Winter':\n",
    "            return np.random.randint(10, 24)  # Warm\n",
    "        elif season == 'Spring':\n",
    "            return np.random.randint(18, 28)  # Warm to hot\n",
    "        elif season == 'Summer':\n",
    "            return np.random.randint(25, 40)  # Hot\n",
    "        elif season == 'Autumn':\n",
    "            return np.random.randint(18, 28)  # Warm to hot\n",
    "\n",
    "\n",
    "def random_pressure(season, temperature):\n",
    "\n",
    "    if season == 'Winter':\n",
    "        # Higher pressure in winter, but slightly lower if temperature is very cold\n",
    "        if temperature < -10:\n",
    "            return np.random.randint(1005, 1015)  # Slightly lower pressure for very cold temperatures\n",
    "        else:\n",
    "            return np.random.randint(1010, 1020)  # Higher pressure for typical winter temperatures\n",
    "    elif season == 'Spring':\n",
    "        # Moderate pressure, adjusted based on temperature\n",
    "        if temperature < 10:\n",
    "            return np.random.randint(1005, 1015)  # Slightly higher pressure for cooler spring temperatures\n",
    "        else:\n",
    "            return np.random.randint(1000, 1010)  # Lower pressure for warmer spring temperatures\n",
    "    elif season == 'Summer':\n",
    "        # Lower pressure in summer, adjusted based on temperature\n",
    "        if temperature > 30:\n",
    "            return np.random.randint(1000, 1010)  # Lower pressure for very hot temperatures\n",
    "        else:\n",
    "            return np.random.randint(1005, 1015)  # Moderate pressure for typical summer temperatures\n",
    "    elif season == 'Autumn':\n",
    "        # Moderate pressure, adjusted based on temperature\n",
    "        if temperature < 15:\n",
    "            return np.random.randint(1005, 1015)  # Slightly higher pressure for cooler autumn temperatures\n",
    "        else:\n",
    "            return np.random.randint(1000, 1010)  # Lower pressure for warmer autumn temperatures\n",
    "\n",
    "\n",
    "def random_humidity(season, temperature):\n",
    "\n",
    "    if season == 'Winter':\n",
    "        # Lower humidity in winter, especially in very cold conditions\n",
    "        if temperature < -10:\n",
    "            return np.random.randint(5, 10)  # Very cold winter has lower humidity\n",
    "        else:\n",
    "            return np.random.randint(8, 15)  # Typical winter humidity range\n",
    "\n",
    "    elif season == 'Spring':\n",
    "        # Moderate humidity, slightly lower in cool temperatures\n",
    "        if temperature < 10:\n",
    "            return np.random.randint(8, 15)  # Cool spring\n",
    "        else:\n",
    "            return np.random.randint(10, 18)  # Warmer spring\n",
    "\n",
    "    elif season == 'Summer':\n",
    "        # Higher humidity, more pronounced in hotter conditions\n",
    "        if temperature > 30:\n",
    "            return np.random.randint(15, 25)  # Very hot summer has higher humidity\n",
    "        else:\n",
    "            return np.random.randint(12, 20)  # Moderate summer humidity\n",
    "\n",
    "    elif season == 'Autumn':\n",
    "        # Moderate humidity, lower in cooler temperatures\n",
    "        if temperature < 15:\n",
    "            return np.random.randint(8, 15)  # Cool autumn\n",
    "        else:\n",
    "            return np.random.randint(10, 18)  # Warmer autumn"
   ]
  },
  {
   "cell_type": "code",
   "execution_count": null,
   "metadata": {
    "trusted": true
   },
   "outputs": [],
   "source": [
    "df['Latitude'] = tqdm(df['Country'].apply(assign_latitude))\n",
    "\n",
    "df['Season'] = tqdm(df['Month'].apply(get_season))\n",
    "\n",
    "df['Temperature'] = tqdm(df[['Season', 'Latitude']].apply(lambda row: random_temp(row['Season'], row['Latitude']), axis=1))   # Temoerature in Celisius\n",
    "\n",
    "df['Air Pressure'] = tqdm(df[['Season', 'Temperature']].apply(lambda row: random_pressure(row['Season'], row['Temperature']), axis=1))      # Air Pressure in HectoPascal\n",
    "\n",
    "df['Humidity'] = tqdm(df[['Season', 'Temperature']].apply(lambda row: random_humidity(row['Season'], row['Temperature']), axis=1))      # Humidity in g/m³"
   ]
  },
  {
   "cell_type": "code",
   "execution_count": null,
   "metadata": {
    "trusted": true
   },
   "outputs": [],
   "source": [
    "df"
   ]
  },
  {
   "cell_type": "code",
   "execution_count": null,
   "metadata": {
    "trusted": true
   },
   "outputs": [],
   "source": [
    "df"
   ]
  },
  {
   "cell_type": "code",
   "execution_count": null,
   "metadata": {
    "trusted": true
   },
   "outputs": [],
   "source": [
    "df.to_csv('data.csv', index=False)"
   ]
  },
  {
   "cell_type": "code",
   "execution_count": null,
   "metadata": {
    "trusted": true
   },
   "outputs": [],
   "source": [
    "# Encode categorical variables\n",
    "country_encoder = LabelEncoder()\n",
    "city_encoder = LabelEncoder()\n",
    "season_encoder = LabelEncoder()\n",
    "\n",
    "\n",
    "\n",
    "df['Country'] = country_encoder.fit_transform(df['Country'])\n",
    "df['City'] = city_encoder.fit_transform(df['City'])\n",
    "df['Season'] = season_encoder.fit_transform(df['Season'])\n",
    "\n",
    "\n",
    "# Save the encoders\n",
    "joblib.dump(country_encoder, 'country_encoder.pkl')\n",
    "joblib.dump(city_encoder, 'city_encoder.pkl')\n",
    "joblib.dump(season_encoder, 'season_encoder.pkl')"
   ]
  },
  {
   "cell_type": "code",
   "execution_count": null,
   "metadata": {
    "trusted": true
   },
   "outputs": [],
   "source": [
    "df"
   ]
  },
  {
   "cell_type": "code",
   "execution_count": null,
   "metadata": {
    "trusted": true
   },
   "outputs": [],
   "source": [
    "# Plot temperature trends over time\n",
    "plt.figure(figsize=(12, 6))\n",
    "sns.lineplot(x='Year', y='Temperature', data=df, errorbar=None)\n",
    "plt.title('Temperature Trends Over Time')\n",
    "plt.xlabel('Year')\n",
    "plt.ylabel('Temperature')\n",
    "plt.show()\n",
    "\n",
    "# Correlation heatmap\n",
    "plt.figure(figsize=(10, 8))\n",
    "sns.heatmap(df.corr(), annot=True, cmap='coolwarm')\n",
    "plt.title('Correlation Heatmap')\n",
    "plt.show()\n",
    "\n",
    "# Boxplot of temperature by season\n",
    "plt.figure(figsize=(10, 6))\n",
    "sns.boxplot(x='Season', y='Temperature', data=df)\n",
    "plt.title('Temperature Distribution by Season')\n",
    "plt.xlabel('Season')\n",
    "plt.ylabel('Average Temperature')\n",
    "plt.legend()\n",
    "plt.show()"
   ]
  },
  {
   "cell_type": "code",
   "execution_count": null,
   "metadata": {
    "trusted": true
   },
   "outputs": [],
   "source": [
    "\n",
    "# Normalize numerical features\n",
    "scaler = StandardScaler()\n",
    "df[[ 'Air Pressure', 'Humidity']] = scaler.fit_transform(df[[ 'Air Pressure', 'Humidity']])\n",
    "\n",
    "# scaler2 = StandardScaler()\n",
    "# df['Temperature'] = scaler2.fit_transform(df[['Temperature']])\n",
    "\n",
    "# Save the scaler\n",
    "joblib.dump(scaler, 'scaler.pkl')"
   ]
  },
  {
   "cell_type": "code",
   "execution_count": null,
   "metadata": {
    "trusted": true
   },
   "outputs": [],
   "source": [
    "df"
   ]
  },
  {
   "cell_type": "code",
   "execution_count": null,
   "metadata": {
    "trusted": true
   },
   "outputs": [],
   "source": [
    "# Sort data by City and Date (Year, Month, Day)\n",
    "df = df.sort_values(by=['City', 'Year', 'Month', 'Day'])"
   ]
  },
  {
   "cell_type": "code",
   "execution_count": null,
   "metadata": {
    "trusted": true
   },
   "outputs": [],
   "source": [
    "# Define timesteps (10 days)\n",
    "timesteps = 10\n",
    "\n",
    "X = df[['Country', 'City', 'Month', 'Day', 'Year', 'Air Pressure', 'Humidity', 'Season']]\n",
    "y = df['Temperature']\n",
    "\n",
    "# Split into training and testing sets\n",
    "X_train, X_test, y_train, y_test = train_test_split(X, y, test_size=0.2, random_state=42)\n",
    "\n",
    "# Reshape data for time-series models (LSTM, GRU, TCN)\n",
    "X_train = X_train.values.reshape((X_train.shape[0], X_train.shape[1], 1))\n",
    "X_test = X_test.values.reshape((X_test.shape[0], X_test.shape[1], 1))\n",
    "\n",
    "# Print shapes\n",
    "print(f\"X_train shape: {X_train.shape}\")  # (samples, timesteps, features)\n",
    "print(f\"y_train shape: {y_train.shape}\")  # (samples,)\n",
    "print(f\"X_test shape: {X_test.shape}\")    # (samples, timesteps, features)\n",
    "print(f\"y_test shape: {y_test.shape}\")    # (samples,)\n",
    "\n",
    "\n"
   ]
  },
  {
   "cell_type": "markdown",
   "metadata": {},
   "source": [
    "# **3. Build and Compare GRU, LSTM, and TCN Models**"
   ]
  },
  {
   "cell_type": "code",
   "execution_count": null,
   "metadata": {
    "trusted": true
   },
   "outputs": [],
   "source": [
    "# Define a GRU model\n",
    "input_shape = (X_train.shape[1], 1)\n",
    "\n",
    "def build_gru_model(input_shape):\n",
    "    model = Sequential([\n",
    "        GRU(64, return_sequences=True, input_shape=input_shape),\n",
    "        Dropout(0.4),\n",
    "        GRU(32),\n",
    "        Dropout(0.4),\n",
    "        Dense(16, activation='relu'),\n",
    "        Dense(1)\n",
    "    ])\n",
    "    model.compile(optimizer=Adam(learning_rate=0.001), loss='mean_squared_error')\n",
    "    return model\n",
    "\n",
    "# Define an LSTM model\n",
    "def build_lstm_model(input_shape):\n",
    "    model = Sequential([\n",
    "        LSTM(64, return_sequences=True, input_shape=input_shape),\n",
    "        Dropout(0.4),\n",
    "        LSTM(32),\n",
    "        Dropout(0.4),\n",
    "        Dense(16, activation='relu'),\n",
    "        Dense(1)\n",
    "    ])\n",
    "    model.compile(optimizer=Adam(learning_rate=0.001), loss='mean_squared_error')\n",
    "    return model\n",
    "\n",
    "# Define a TCN model\n",
    "def build_tcn_model(input_shape):\n",
    "    inputs = Input(shape=input_shape)\n",
    "    \n",
    "    # Temporal Convolutional Layers\n",
    "    x = Conv1D(64, kernel_size=3, padding='causal', activation='relu')(inputs)\n",
    "    x = Dropout(0.4)(x)\n",
    "    x = BatchNormalization()(x)\n",
    "    x = MaxPooling1D(pool_size=2)(x)\n",
    "    \n",
    "    x = Conv1D(32, kernel_size=3, padding='causal', activation='relu')(x)\n",
    "    x = Dropout(0.4)(x)\n",
    "    x = BatchNormalization()(x)\n",
    "    x = MaxPooling1D(pool_size=2)(x)\n",
    "    \n",
    "    x = Flatten()(x)\n",
    "    x = Dense(16, activation='relu')(x)\n",
    "    outputs = Dense(1)(x)\n",
    "    \n",
    "    model = Model(inputs, outputs)\n",
    "    model.compile(optimizer=Adam(learning_rate=0.001), loss='mean_squared_error')\n",
    "    return model\n",
    "\n",
    "\n",
    "\n",
    "# Build and train the models\n",
    "gru_model = build_gru_model(input_shape)\n",
    "lstm_model = build_lstm_model(input_shape)\n",
    "tcn_model = build_tcn_model(input_shape)"
   ]
  },
  {
   "cell_type": "markdown",
   "metadata": {},
   "source": [
    "# **4. Train the Models**"
   ]
  },
  {
   "cell_type": "code",
   "execution_count": null,
   "metadata": {
    "trusted": true
   },
   "outputs": [],
   "source": [
    "# Train GRU model\n",
    "gru_history = gru_model.fit(\n",
    "    X_train, y_train,\n",
    "    epochs=50, batch_size=32,\n",
    "    validation_split=0.2,\n",
    "    callbacks=[EarlyStopping(patience=8, restore_best_weights=True)]\n",
    ")\n",
    "\n"
   ]
  },
  {
   "cell_type": "code",
   "execution_count": null,
   "metadata": {
    "trusted": true
   },
   "outputs": [],
   "source": [
    "# Train LSTM model\n",
    "lstm_history = lstm_model.fit(\n",
    "    X_train, y_train,\n",
    "    epochs=50, batch_size=32,\n",
    "    validation_split=0.2,\n",
    "    callbacks=[EarlyStopping(patience=8, restore_best_weights=True)]\n",
    ")"
   ]
  },
  {
   "cell_type": "code",
   "execution_count": null,
   "metadata": {
    "trusted": true
   },
   "outputs": [],
   "source": [
    "# Train TCN model\n",
    "tcn_history = tcn_model.fit(\n",
    "    X_train, y_train,\n",
    "    epochs=50, batch_size=32,\n",
    "    validation_split=0.2,\n",
    "    callbacks=[EarlyStopping(patience=5, restore_best_weights=True)]\n",
    ")"
   ]
  },
  {
   "cell_type": "markdown",
   "metadata": {},
   "source": [
    "# **5. Evaluating and Testing the Models**"
   ]
  },
  {
   "cell_type": "code",
   "execution_count": null,
   "metadata": {
    "trusted": true
   },
   "outputs": [],
   "source": [
    "# Evaluate GRU Model\n",
    "gru_loss = gru_model.evaluate(X_test, y_test)\n",
    "print(f'GRU Model Test Loss: {gru_loss}')\n",
    "\n",
    "# Evaluate LSTM Model\n",
    "lstm_loss = lstm_model.evaluate(X_test, y_test)\n",
    "print(f'LSTM Model Test Loss: {lstm_loss}')\n",
    "\n",
    "# Evaluate TCN Model\n",
    "tcn_loss = tcn_model.evaluate(X_test, y_test)\n",
    "print(f'TCN Model Test Loss: {tcn_loss}')"
   ]
  },
  {
   "cell_type": "code",
   "execution_count": null,
   "metadata": {
    "trusted": true
   },
   "outputs": [],
   "source": [
    "# Evaluate the models\n",
    "def evaluate_model(model, X_test, y_test):\n",
    "    y_pred = model.predict(X_test)\n",
    "    mse = mean_squared_error(y_test, y_pred)\n",
    "    r2 = r2_score(y_test, y_pred)\n",
    "    return mse, r2\n",
    "\n",
    "# Evaluate GRU\n",
    "gru_mse, gru_r2 = evaluate_model(gru_model, X_test, y_test)\n",
    "print(f'GRU - MSE: {gru_mse}, R2: {gru_r2}')\n",
    "\n",
    "# Evaluate LSTM\n",
    "lstm_mse, lstm_r2 = evaluate_model(lstm_model, X_test, y_test)\n",
    "print(f'LSTM - MSE: {lstm_mse}, R2: {lstm_r2}')\n",
    "\n",
    "# Evaluate TCN\n",
    "tcn_mse, tcn_r2 = evaluate_model(tcn_model, X_test, y_test)\n",
    "print(f'TCN - MSE: {tcn_mse}, R2: {tcn_r2}')"
   ]
  },
  {
   "cell_type": "code",
   "execution_count": null,
   "metadata": {
    "trusted": true
   },
   "outputs": [],
   "source": [
    "def plot_history(history, title, metrics=None):\n",
    "    \"\"\"\n",
    "    Plots the training and validation loss and metrics over epochs.\n",
    "\n",
    "    Parameters:\n",
    "        history: A Keras History object returned by model.fit().\n",
    "        metrics: List of metrics to plot (e.g., ['accuracy']). Default is None.\n",
    "    \"\"\"\n",
    "    # Plot training and validation loss\n",
    "    plt.figure(figsize=(12, 6))\n",
    "    \n",
    "    plt.subplot(1, 2, 1)\n",
    "    plt.plot(history.history['loss'], label='Training Loss')\n",
    "    plt.plot(history.history['val_loss'], label='Validation Loss')\n",
    "    plt.title(title)\n",
    "    plt.xlabel('Epochs')\n",
    "    plt.ylabel('Loss')\n",
    "    plt.legend()\n",
    "\n",
    "    # Plot training and validation metrics (if provided)\n",
    "    if metrics:\n",
    "        plt.subplot(1, 2, 2)\n",
    "        for metric in metrics:\n",
    "            plt.plot(history.history[metric], label=f'Training {metric.capitalize()}')\n",
    "            plt.plot(history.history[f'val_{metric}'], label=f'Validation {metric.capitalize()}')\n",
    "        plt.title('Training and Validation Metrics')\n",
    "        plt.xlabel('Epochs')\n",
    "        plt.ylabel('Metric Value')\n",
    "        plt.legend()\n",
    "\n",
    "    plt.tight_layout()\n",
    "    plt.show()\n",
    "\n",
    "plot_history(gru_history, 'Training and Validation Loss for GRU')\n",
    "plot_history(lstm_history, 'Training and Validation Loss for LSTM')\n",
    "plot_history(tcn_history, 'Training and Validation Loss for TCN')"
   ]
  },
  {
   "cell_type": "code",
   "execution_count": null,
   "metadata": {
    "trusted": true
   },
   "outputs": [],
   "source": [
    "# Plot training and validation loss for all models\n",
    "plt.figure(figsize=(12, 6))\n",
    "plt.plot(gru_history.history['loss'], label='GRU Training Loss')\n",
    "plt.plot(gru_history.history['val_loss'], label='GRU Validation Loss')\n",
    "plt.plot(lstm_history.history['loss'], label='LSTM Training Loss')\n",
    "plt.plot(lstm_history.history['val_loss'], label='LSTM Validation Loss')\n",
    "plt.plot(tcn_history.history['loss'], label='TCN Training Loss')\n",
    "plt.plot(tcn_history.history['val_loss'], label='TCN Validation Loss')\n",
    "plt.title('Training and Validation Loss Comparison')\n",
    "plt.xlabel('Epochs')\n",
    "plt.ylabel('Loss')\n",
    "plt.legend()\n",
    "plt.show()"
   ]
  },
  {
   "cell_type": "markdown",
   "metadata": {},
   "source": [
    "# **7. Deployment**  (to be continoued)"
   ]
  },
  {
   "cell_type": "code",
   "execution_count": null,
   "metadata": {
    "trusted": true
   },
   "outputs": [],
   "source": [
    "# Save the trained model\n",
    "gru_model.save('GRU-model.h5')\n",
    "lstm_model.save('LSTM-model.h5')\n",
    "tcn_model.save('TCN-model.h5')\n",
    "\n",
    "# Load the model\n",
    "from tensorflow.keras.models import load_model\n",
    "loaded_model = load_model('GRU-model.h5')\n",
    "\n",
    "# Example prediction\n",
    "sample_input = X_test[0].reshape(1, -1)\n",
    "prediction = loaded_model.predict(sample_input)\n",
    "print(f'Predicted Temperature: {prediction[0][0]}')"
   ]
  }
 ],
 "metadata": {
  "kaggle": {
   "accelerator": "nvidiaTeslaT4",
   "dataSources": [
    {
     "datasetId": 694560,
     "sourceId": 1215964,
     "sourceType": "datasetVersion"
    },
    {
     "datasetId": 2828685,
     "sourceId": 4878184,
     "sourceType": "datasetVersion"
    }
   ],
   "dockerImageVersionId": 30840,
   "isGpuEnabled": true,
   "isInternetEnabled": true,
   "language": "python",
   "sourceType": "notebook"
  },
  "kernelspec": {
   "display_name": "Python 3",
   "language": "python",
   "name": "python3"
  },
  "language_info": {
   "codemirror_mode": {
    "name": "ipython",
    "version": 3
   },
   "file_extension": ".py",
   "mimetype": "text/x-python",
   "name": "python",
   "nbconvert_exporter": "python",
   "pygments_lexer": "ipython3",
   "version": "3.12.0"
  }
 },
 "nbformat": 4,
 "nbformat_minor": 4
}
